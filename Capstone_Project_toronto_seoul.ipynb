{
    "cells": [
        {
            "cell_type": "markdown",
            "metadata": {
                "collapsed": true
            },
            "source": "#### Capstone Project - The Battle of Neighborhoods\n# Which Neighbourhood is the most similar with the Seoul city?\n### Applied Data Science Capstone\n#### W. Eunkyung Gu"
        },
        {
            "cell_type": "markdown",
            "metadata": {},
            "source": "## 1. What I want to solve\nNowadays, there are quiet lots of Korean who try to immigrate to Canada. For a variety of personal reasons, including career and academic issues, they decide to immigrate to Canada. In this situataion, I would like to determine <b> which Canadian neighbourhood, especially in Toronto is the most similar to Seoul, Korea's representative city. </b>\nThis project could help Koreans who want to immigrate to Canada by representing the most adaptable neighbourhood."
        },
        {
            "cell_type": "markdown",
            "metadata": {},
            "source": "## 2. The Datasets\n\n1. The table of postal codes of Canada from Wikipedia page (https://en.wikipedia.org/wiki/List_of_postal_codes_of_Canada:_M)\n\n2. A csv file that has the geographical coordinates of each postal code of Canada (http://cocl.us/Geospatial_data)\n\n3. The requested data from Foursquare that is related with Seoul, and Toronto."
        },
        {
            "cell_type": "code",
            "execution_count": null,
            "metadata": {},
            "outputs": [],
            "source": ""
        }
    ],
    "metadata": {
        "kernelspec": {
            "display_name": "Python 3.7",
            "language": "python",
            "name": "python3"
        },
        "language_info": {
            "codemirror_mode": {
                "name": "ipython",
                "version": 3
            },
            "file_extension": ".py",
            "mimetype": "text/x-python",
            "name": "python",
            "nbconvert_exporter": "python",
            "pygments_lexer": "ipython3",
            "version": "3.7.9"
        }
    },
    "nbformat": 4,
    "nbformat_minor": 1
}